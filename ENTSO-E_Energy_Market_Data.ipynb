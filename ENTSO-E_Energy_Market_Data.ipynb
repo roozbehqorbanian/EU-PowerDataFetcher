{
 "cells": [
  {
   "cell_type": "code",
   "execution_count": null,
   "id": "a2f30ec0-c889-4c7c-a0c9-1ded0050c13f",
   "metadata": {},
   "outputs": [],
   "source": [
    "from entsoe import EntsoePandasClient\n",
    "import pandas as pd\n",
    "\n",
    "API_KEY = \"API_KEY\"\n",
    "client = EntsoePandasClient(api_key=API_KEY)\n",
    "\n",
    "# Define the country codes\n",
    "country_codes = country_codes = ['AT', 'BE', 'BG', 'CY', 'CZ', 'DE', 'DK', 'EE', 'ES', 'FI', 'FR', 'GB', 'GR', 'HU', 'IE',\n",
    "                  'IT', 'LT', 'LU', 'LV', 'NL', 'NO', 'PL', 'PT', 'RO', 'SE', 'SI', 'SK']\n",
    "\n",
    "# Specify the date range\n",
    "start = pd.Timestamp('20220801', tz='Europe/Brussels')\n",
    "end = pd.Timestamp('20220901', tz='Europe/Brussels')\n",
    "\n",
    "for country_code in country_codes:\n",
    "    # Query day-ahead prices\n",
    "    try:\n",
    "        param_real_prices = client.query_day_ahead_prices(country_code, start=start, end=end)\n",
    "        param_real_prices.to_csv(r'saved_data/' + f\"{country_code}_param_real_prices.csv\", sep='\\t', encoding='utf-8')\n",
    "    except Exception as e:\n",
    "        print(f\"Error in query_day_ahead_prices for country code: {country_code}. Error message: {str(e)}\")\n",
    "\n",
    "    # Query load\n",
    "    try:\n",
    "        param_demand = client.query_load(country_code, start=start, end=end)\n",
    "        param_demand.to_csv(r'saved_data/' + f\"{country_code}_param_demand.csv\", sep='\\t', encoding='utf-8')\n",
    "    except Exception as e:\n",
    "        print(f\"Error in query_load for country code: {country_code}. Error message: {str(e)}\")\n",
    "\n",
    "    # Query generation\n",
    "    try:\n",
    "        param_generation = client.query_generation(country_code=country_code, start=start, end=end)\n",
    "        param_generation.to_csv(r'saved_data/' + f\"{country_code}_param_generation.csv\", sep='\\t', encoding='utf-8')\n",
    "    except Exception as e:\n",
    "        print(f\"Error in query_generation for country code: {country_code}. Error message: {str(e)}\")\n",
    "\n",
    "    # Query installed generation capacity\n",
    "    try:\n",
    "        param_generation_cap = client.query_installed_generation_capacity(country_code, start=start, end=end, psr_type=None)\n",
    "        param_generation_cap.to_csv(r'saved_data/' + f\"{country_code}_param_generation_cap.csv\", sep='\\t',encoding='utf-8')\n",
    "    except Exception as e:\n",
    "        print(f\"Error in query_installed_generation_capacity for country code: {country_code}. Error message: {str(e)}\")\n",
    "\n",
    "    # Query hydro data\n",
    "    try:\n",
    "        param_aggregate_water_reservoirs_and_hydro_storage = client.query_aggregate_water_reservoirs_and_hydro_storage(country_code, start=start, end=end)\n",
    "        param_aggregate_water_reservoirs_and_hydro_storage.to_csv(r'saved_data/' + f\"{country_code}_param_aggregate_water_reservoirs_and_hydro_storage.csv\", sep='\\t', encoding='utf-8')\n",
    "    except Exception as e:\n",
    "        print(f\"Error in query_aggregate_water_reservoirs_and_hydro_storage for country code: {country_code}. Error message: {str(e)}\")\n",
    "\n",
    "    print(f\"Completed data processing for country code: {country_code}\")\n"
   ]
  },
  {
   "cell_type": "code",
   "execution_count": null,
   "id": "ab9ea7da-3513-40f3-ae25-e47c2b46147b",
   "metadata": {},
   "outputs": [],
   "source": []
  }
 ],
 "metadata": {
  "kernelspec": {
   "display_name": "Python 3 (ipykernel)",
   "language": "python",
   "name": "python3"
  },
  "language_info": {
   "codemirror_mode": {
    "name": "ipython",
    "version": 3
   },
   "file_extension": ".py",
   "mimetype": "text/x-python",
   "name": "python",
   "nbconvert_exporter": "python",
   "pygments_lexer": "ipython3",
   "version": "3.10.12"
  }
 },
 "nbformat": 4,
 "nbformat_minor": 5
}
